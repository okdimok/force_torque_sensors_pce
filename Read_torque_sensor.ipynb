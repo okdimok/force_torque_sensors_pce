{
 "cells": [
  {
   "cell_type": "code",
   "execution_count": 276,
   "metadata": {
    "collapsed": true
   },
   "outputs": [],
   "source": [
    "import serial, struct, time, datetime, os\n",
    "import numpy as np"
   ]
  },
  {
   "cell_type": "code",
   "execution_count": 277,
   "metadata": {
    "collapsed": true
   },
   "outputs": [],
   "source": [
    "ser = serial.Serial(\"/dev/ttyUSB2\", baudrate=9600, stopbits=1, parity=\"N\")"
   ]
  },
  {
   "cell_type": "code",
   "execution_count": 278,
   "metadata": {
    "collapsed": true
   },
   "outputs": [],
   "source": [
    "class UnexpectedDigitException(Exception):\n",
    "    pass"
   ]
  },
  {
   "cell_type": "code",
   "execution_count": 279,
   "metadata": {
    "collapsed": false
   },
   "outputs": [],
   "source": [
    "def mkdir_p(path):\n",
    "    try:\n",
    "        os.makedirs(path)\n",
    "    except OSError as exc:  # Python >2.5\n",
    "        if exc.errno == errno.EEXIST and os.path.isdir(path):\n",
    "            pass\n",
    "        else:\n",
    "            raise\n",
    "\n",
    "\n",
    "def read_one_measurement(n=16):\n",
    "    ser.flushInput()\n",
    "    fmt = \"b\"*n\n",
    "    buf_size = struct.calcsize(fmt)\n",
    "    line = ser.read(buf_size)\n",
    "    unpacked = struct.unpack(fmt, line)\n",
    "    return [d & 0b1111 for d in unpacked]\n",
    "\n",
    "def find_measurement_end():\n",
    "    for i in range(100):\n",
    "        m = read_one_measurement(n=1)\n",
    "        if (m[0]==13):\n",
    "            return\n",
    "    raise UnexpectedDigitException()\n",
    "\n",
    "\n",
    "def process_torque_measurement(raw_measurement):\n",
    "\n",
    "    unpacked = raw_measurement\n",
    "    \n",
    "#     print ((\"{:2d} \"*16).format(*unpacked))\n",
    "#     print ((\"{: >8d} \"*16).format(*unpacked))\n",
    "#     print ((\"{: >8b} \"*16).format(*unpacked))\n",
    "#     print ((\"{: >8x} \"*16).format(*unpacked))\n",
    "\n",
    "    if unpacked[1] != 4: raise UnexpectedDigitException()\n",
    "    if unpacked[2] != 1: raise UnexpectedDigitException()\n",
    "    if unpacked[3] != 8: raise UnexpectedDigitException(\"check torque sensor is connected\")\n",
    "    units = unpacked[4]\n",
    "    if not 1 <= units <= 3: raise UnexpectedDigitException(\"check torque sensor is connected\")\n",
    "    units_dict = {\n",
    "        1 : \"Kg·cm\",\n",
    "        2 : \"LB·inch\",\n",
    "        3 : \"N·cm\"}\n",
    "    units = units_dict[units]\n",
    "    polarity = unpacked[5]\n",
    "    if not polarity in [0, 1]: raise UnexpectedDigitException()\n",
    "    decimal_point_position = unpacked[6]\n",
    "    if not decimal_point_position in range(4): raise UnexpectedDigitException()\n",
    "#     print (decimal_point_position)\n",
    "    digits = unpacked[7:15]\n",
    "    digits_s = (\"{}\"*len(digits)).format(*digits)\n",
    "    measurement = float(digits_s)\n",
    "    measurement *= (-1)**polarity\n",
    "    measurement /= 10**decimal_point_position\n",
    "    if unpacked[15] != 13: raise UnexpectedDigitException(\"message got corrupted\")\n",
    "    return measurement, units\n",
    "    \n",
    "\n",
    "def process_force_measurement(raw_measurement):\n",
    "\n",
    "    unpacked = raw_measurement\n",
    "    \n",
    "#     print ((\"{:2d} \"*16).format(*unpacked))\n",
    "#     print ((\"{: >8d} \"*16).format(*unpacked))\n",
    "#     print ((\"{: >8b} \"*16).format(*unpacked))\n",
    "#     print ((\"{: >8x} \"*16).format(*unpacked))\n",
    "\n",
    "    if unpacked[1] != 4: raise UnexpectedDigitException()\n",
    "    if unpacked[2] != 1: raise UnexpectedDigitException()\n",
    "    if unpacked[3] != 5: raise UnexpectedDigitException(\"check force sensor is connected\")\n",
    "    units = unpacked[4]\n",
    "    if not 5 <= units <= 9: raise UnexpectedDigitException(\"check force sensor is connected\")\n",
    "    units_dict = {\n",
    "        5 : \"Kg\",\n",
    "        6 : \"LB\",\n",
    "        7 : \"g\",\n",
    "        8 : \"oz\",\n",
    "        9 : \"N\"\n",
    "    }\n",
    "    units = units_dict[units]\n",
    "    polarity = unpacked[5]\n",
    "    if not polarity in [0, 1]: raise UnexpectedDigitException()\n",
    "    decimal_point_position = unpacked[6]\n",
    "    if not decimal_point_position in range(4): raise UnexpectedDigitException()\n",
    "#     print (decimal_point_position)\n",
    "    digits = unpacked[7:15]\n",
    "    digits_s = (\"{}\"*len(digits)).format(*digits)\n",
    "    measurement = float(digits_s)\n",
    "    measurement *= (-1)**polarity\n",
    "    measurement /= 10**decimal_point_position    \n",
    "    if unpacked[15] != 13: raise UnexpectedDigitException(\"message got corrupted\")\n",
    "    return measurement, units \n",
    "    \n",
    "\n",
    "\n",
    "    "
   ]
  },
  {
   "cell_type": "code",
   "execution_count": 280,
   "metadata": {
    "collapsed": false
   },
   "outputs": [],
   "source": [
    "def aquire_data(name):\n",
    "    try:\n",
    "        force_measurements = []\n",
    "        torque_measurements = []\n",
    "        t = time.time()\n",
    "        while True:\n",
    "            raw_measurement = read_one_measurement()\n",
    "            t_now = time.time() - t\n",
    "            try:\n",
    "                force_measurements.append((*process_force_measurement(raw_measurement), t_now))\n",
    "            except UnexpectedDigitException:\n",
    "                try:\n",
    "                    torque_measurements.append((*process_torque_measurement(raw_measurement), t_now))\n",
    "                except UnexpectedDigitException:\n",
    "                    print (\"One measurement failed\")\n",
    "                    find_measurement_end()\n",
    "    except KeyboardInterrupt:\n",
    "    #     print (force_measurements, torque_measurements)\n",
    "        mkdir_p(\"data_\"+ name)\n",
    "        force_measurements = np.array(force_measurements)\n",
    "        torque_measurements = np.array(torque_measurements)\n",
    "        now = datetime.datetime.now().strftime(\"%Y-%m-%d_%H:%M:%S\")\n",
    "        np.savetxt(\"data_\" + name + \"/\" + now + \"_force\", force_measurements, fmt=\"%s\")\n",
    "        np.savetxt(\"data_\" + name + \"/\" + now + \"_torque\", torque_measurements, fmt=\"%s\")\n",
    "        print (\"Stopped, saved\")"
   ]
  },
  {
   "cell_type": "code",
   "execution_count": 281,
   "metadata": {
    "collapsed": false
   },
   "outputs": [
    {
     "name": "stdout",
     "output_type": "stream",
     "text": [
      "Stopped, saved\n"
     ]
    }
   ],
   "source": [
    "aquire_data(\"Dima\")"
   ]
  },
  {
   "cell_type": "code",
   "execution_count": 269,
   "metadata": {
    "collapsed": false
   },
   "outputs": [],
   "source": []
  },
  {
   "cell_type": "code",
   "execution_count": 210,
   "metadata": {
    "collapsed": false
   },
   "outputs": [
    {
     "ename": "UnexpectedDigitException",
     "evalue": "check force sensor is connected",
     "output_type": "error",
     "traceback": [
      "\u001b[0;31m---------------------------------------------------------------------------\u001b[0m",
      "\u001b[0;31mUnexpectedDigitException\u001b[0m                  Traceback (most recent call last)",
      "\u001b[0;32m<ipython-input-210-906c57b1e74f>\u001b[0m in \u001b[0;36m<module>\u001b[0;34m()\u001b[0m\n\u001b[1;32m      1\u001b[0m \u001b[0;32mfor\u001b[0m \u001b[0mx\u001b[0m \u001b[0;32min\u001b[0m \u001b[0mrange\u001b[0m\u001b[0;34m(\u001b[0m\u001b[0;36m10\u001b[0m\u001b[0;34m)\u001b[0m\u001b[0;34m:\u001b[0m\u001b[0;34m\u001b[0m\u001b[0m\n\u001b[0;32m----> 2\u001b[0;31m     \u001b[0mprint\u001b[0m\u001b[0;34m(\u001b[0m\u001b[0mread_force_measurement\u001b[0m\u001b[0;34m(\u001b[0m\u001b[0;34m)\u001b[0m\u001b[0;34m)\u001b[0m\u001b[0;34m\u001b[0m\u001b[0m\n\u001b[0m",
      "\u001b[0;32m<ipython-input-209-f7cc4005d9fc>\u001b[0m in \u001b[0;36mread_force_measurement\u001b[0;34m()\u001b[0m\n\u001b[1;32m     16\u001b[0m     \u001b[0;32mif\u001b[0m \u001b[0munpacked\u001b[0m\u001b[0;34m[\u001b[0m\u001b[0;36m1\u001b[0m\u001b[0;34m]\u001b[0m \u001b[0;34m!=\u001b[0m \u001b[0;36m4\u001b[0m\u001b[0;34m:\u001b[0m \u001b[0;32mraise\u001b[0m \u001b[0mUnexpectedDigitException\u001b[0m\u001b[0;34m(\u001b[0m\u001b[0;34m)\u001b[0m\u001b[0;34m\u001b[0m\u001b[0m\n\u001b[1;32m     17\u001b[0m     \u001b[0;32mif\u001b[0m \u001b[0munpacked\u001b[0m\u001b[0;34m[\u001b[0m\u001b[0;36m2\u001b[0m\u001b[0;34m]\u001b[0m \u001b[0;34m!=\u001b[0m \u001b[0;36m1\u001b[0m\u001b[0;34m:\u001b[0m \u001b[0;32mraise\u001b[0m \u001b[0mUnexpectedDigitException\u001b[0m\u001b[0;34m(\u001b[0m\u001b[0;34m)\u001b[0m\u001b[0;34m\u001b[0m\u001b[0m\n\u001b[0;32m---> 18\u001b[0;31m     \u001b[0;32mif\u001b[0m \u001b[0munpacked\u001b[0m\u001b[0;34m[\u001b[0m\u001b[0;36m3\u001b[0m\u001b[0;34m]\u001b[0m \u001b[0;34m!=\u001b[0m \u001b[0;36m5\u001b[0m\u001b[0;34m:\u001b[0m \u001b[0;32mraise\u001b[0m \u001b[0mUnexpectedDigitException\u001b[0m\u001b[0;34m(\u001b[0m\u001b[0;34m\"check force sensor is connected\"\u001b[0m\u001b[0;34m)\u001b[0m\u001b[0;34m\u001b[0m\u001b[0m\n\u001b[0m\u001b[1;32m     19\u001b[0m     \u001b[0munits\u001b[0m \u001b[0;34m=\u001b[0m \u001b[0munpacked\u001b[0m\u001b[0;34m[\u001b[0m\u001b[0;36m4\u001b[0m\u001b[0;34m]\u001b[0m\u001b[0;34m\u001b[0m\u001b[0m\n\u001b[1;32m     20\u001b[0m     \u001b[0;32mif\u001b[0m \u001b[0;32mnot\u001b[0m \u001b[0;36m5\u001b[0m \u001b[0;34m<=\u001b[0m \u001b[0munits\u001b[0m \u001b[0;34m<=\u001b[0m \u001b[0;36m9\u001b[0m\u001b[0;34m:\u001b[0m \u001b[0;32mraise\u001b[0m \u001b[0mUnexpectedDigitException\u001b[0m\u001b[0;34m(\u001b[0m\u001b[0;34m\"check force sensor is connected\"\u001b[0m\u001b[0;34m)\u001b[0m\u001b[0;34m\u001b[0m\u001b[0m\n",
      "\u001b[0;31mUnexpectedDigitException\u001b[0m: check force sensor is connected"
     ]
    }
   ],
   "source": []
  },
  {
   "cell_type": "code",
   "execution_count": null,
   "metadata": {
    "collapsed": true
   },
   "outputs": [],
   "source": []
  },
  {
   "cell_type": "code",
   "execution_count": null,
   "metadata": {
    "collapsed": true
   },
   "outputs": [],
   "source": []
  }
 ],
 "metadata": {
  "kernelspec": {
   "display_name": "Python [default]",
   "language": "python",
   "name": "python3"
  },
  "language_info": {
   "codemirror_mode": {
    "name": "ipython",
    "version": 3
   },
   "file_extension": ".py",
   "mimetype": "text/x-python",
   "name": "python",
   "nbconvert_exporter": "python",
   "pygments_lexer": "ipython3",
   "version": "3.5.4"
  }
 },
 "nbformat": 4,
 "nbformat_minor": 2
}
